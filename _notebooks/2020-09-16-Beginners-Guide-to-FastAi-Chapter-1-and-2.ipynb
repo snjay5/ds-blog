{
 "cells": [
  {
   "cell_type": "markdown",
   "metadata": {},
   "source": [
    "Beginners Guide to FastAi Chapter 1 and 2\n",
    "\n",
    "\n",
    "Welcome to the world of Deep Learning. Let me tell you a quick overview of myself, I come from an Engineering backgroud and currently working in a well renowed MNO in India.\n",
    "While doing my regular job, one day I got this feeling to learn something new though my current job also offers me to learn everyday. I however, being a TV series fanatic got curious about the recommendations being provided by OTT platforms such as Netflix, Amazon etc. and it came to my notice that various Deep Learning algorithms are at place to give us such suggestions. It got me motivated and here I am, the journey has started.\n",
    "This course was referred to me by one of my friend/mentor who is a pioneer in Data Science working with nVidia. \n",
    "\n",
    "Lets start with the problems that I faced till Chapter2 of the book and their solutions. \n",
    "I will try to provide the exact links where you can refer to the solutions.\n",
    "\n",
    "The Chapter1 of the book gives an overview of the authors of the book, Deep Learning, the softwares to be used for deep learning.\n",
    "\n",
    "As it is was completely new for me, I had no idea how to open the notebooks which kept me thinking for a while.\n",
    "So the first task is to open the book in Jupyter Notebooks. I would recommend to use Paperspace Gradient which is easy to setup.\n",
    "\n",
    "Setup Guide Link: https://course.fast.ai/start_gradient\n",
    "\n",
    "The thing that I liked about this course is the teaching method that uses top down approach. I had never came across such teaching method and as I am going past the course, it seems quite interesting.\n",
    "\n",
    "Once you are able to open the book in Gradient, you can run the cells and the output will be visible.\n",
    "The Image Recognizor is the firse code that we are taught. Keep going through the cells and at last we will get the result predicting the images correctly.\n",
    "\n",
    "PS.: Always remember to import the first line of codes from the notebook\n",
    "\n",
    "!pip install -Uqq fastbook\n",
    "import fastbook\n",
    "fastbook.setup_book()\n",
    "\n",
    "from fastbook import *\n",
    "\n",
    "One the model is up and running, it can be used to tackle other tasks other than image recognition.\n",
    "\n",
    "\n",
    "The second chapter teaches us to take the model to production, i.e, a live working app. Yes, you heard me right. We can have our app to classify and recognize images.\n",
    "\n",
    "Follow all the codes within the notebook until you are asked to add your notebook to the github.\n",
    "This can be time consuming as you might be using git hub for the first time. I am sharing the post link where you can refer to setup guide.\n",
    "\n",
    "Follow the link below to add notebook to git and deploy it:\n",
    "\n",
    "https://forums.fast.ai/t/deploying-your-notebook-as-an-app-under-10-minutes/70621\n",
    "\n",
    "Remember to download your export.pkl and jupyter notebook from Paperspace gradient.\n",
    "\n",
    "You might face issue in importing export.pkl file on git as the file size is greater than 25 MB. The method to do so is mentioned in above link.\n",
    "\n",
    "Thats it, deploy your model using Binder and the first assignment is completed.\n"
   ]
  }
 ],
 "metadata": {
  "kernelspec": {
   "display_name": "Python 3",
   "language": "python",
   "name": "python3"
  },
  "language_info": {
   "codemirror_mode": {
    "name": "ipython",
    "version": 3
   },
   "file_extension": ".py",
   "mimetype": "text/x-python",
   "name": "python",
   "nbconvert_exporter": "python",
   "pygments_lexer": "ipython3",
   "version": "3.8.5"
  }
 },
 "nbformat": 4,
 "nbformat_minor": 4
}
